{
 "cells": [
  {
   "cell_type": "markdown",
   "metadata": {},
   "source": [
    "**The Battle of Neighborhoods**"
   ]
  },
  {
   "cell_type": "markdown",
   "metadata": {},
   "source": [
    "**1. Introduction**"
   ]
  },
  {
   "cell_type": "markdown",
   "metadata": {},
   "source": [
    "The purpose of this project is to help anyone interested in exploring and prospecting the best area in NYC to setup a restaurant specifically related to exclusive french cuisine.\n",
    "\n",
    "By applying Data Science in our research, the findings may help people understand and make smart decisions when ready to go live and setup a similar business.\n",
    "\n",
    "Finally, this methodology could be replicated and applied to other cities around the globe as long as the Data Scientist has access to a data base of the city to be analysed."
   ]
  },
  {
   "cell_type": "markdown",
   "metadata": {},
   "source": [
    "**2. Business Problem**"
   ]
  },
  {
   "cell_type": "markdown",
   "metadata": {},
   "source": [
    "The restaurant industry is certainly a <u>difficult</u> business to set up and operate not only because it’s capital-intensive with <u>low margins</u> but due to health issues, they’re also under heavy regulations. In top, most restaurants have to deal with a large number of skill-full and hard-working <u>competitors</u> and a variety of flavours worldwide.\n",
    "\n",
    "Depending whether restaurants want to crack a particular segment and remain prosperous, they have to run a proper analysis of this particular industry with reliable and predictive data tools. Indeed, Data science provides invaluable insights regarding trends and emerging consumer lifestyles so that they can better address and meet public needs. \n",
    "\n",
    "For this project, I will use the Foursquare API to <u>explore</u> neighbourhoods in New York City in order to figure out the best location for me to open a French restaurant and position it in a <u>niche</u> sector. In addition, the explore function will let us get the most common venue categories in each neighbourhood, and then we’ll use this feature to group them into neighbourhoods. Then we’ll figure out which location is the most common visit venue and venue with least/most french restaurants to help me to decide the <u>optimum location</u> for opening a french restaurant. As a side note, the data source and methodology will be described in the 2nd part of the project.\n",
    "\n",
    "By applying Data Science, we need to address a few questions:\n",
    "* What's currently the best are in NYC to taste exclusive French cuisine?\n",
    "* What is the best area in NYC for French restaurants?\n",
    "* Which areas New Yorkers relate to French cuisine?"
   ]
  },
  {
   "cell_type": "markdown",
   "metadata": {},
   "source": [
    "**3. Target Audience¶**"
   ]
  },
  {
   "cell_type": "markdown",
   "metadata": {},
   "source": [
    "As we known, New York city is probably one of the most important financial centre in the world and also described as a great influencer in terms of new culture, fashion, commerce, entertainment, sport, financial research, tourism, comtemporary art, sports and cuisine. Because of the great melting pot and large foreign communities, it's quite beneficial for New Yorkes as they can get a <u>large variety</u> of choice in terms of fine cuisine such as: chinese, indian, italian, thai, peruvian, japanese to mention a few.\n",
    "\n",
    "Having said this, we also have to keep in mind french cuisine is probably one of the most expensive cuisine out there and, in this respect, prospect areas should be selected on this particular criteria.\n",
    "\n",
    "Finally, to survive in this competitive market, as a whole, ensuring a <u>correct location</u> for a business in the restaurant industry is key."
   ]
  }
 ],
 "metadata": {
  "kernelspec": {
   "display_name": "Python",
   "language": "python",
   "name": "conda-env-python-py"
  },
  "language_info": {
   "codemirror_mode": {
    "name": "ipython",
    "version": 3
   },
   "file_extension": ".py",
   "mimetype": "text/x-python",
   "name": "python",
   "nbconvert_exporter": "python",
   "pygments_lexer": "ipython3",
   "version": "3.6.10"
  }
 },
 "nbformat": 4,
 "nbformat_minor": 4
}
